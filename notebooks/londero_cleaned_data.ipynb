{
 "cells": [
  {
   "cell_type": "markdown",
   "id": "4e140472",
   "metadata": {},
   "source": [
    "# Data Science Project\n"
   ]
  },
  {
   "cell_type": "markdown",
   "id": "e810a17c",
   "metadata": {},
   "source": [
    "**College/University Name**: _CICCC - Cornerstone International Community College of Canada_  \n",
    "**Course**: _Machine Learning_  \n",
    "**Instructor**: _Austin Egbal_  \n",
    "**Student Names**: _Amir Lima Oliveira_, _Otávio Londero_, _Yuan Chan_\n",
    "\n",
    "---"
   ]
  },
  {
   "cell_type": "markdown",
   "id": "60372ac7",
   "metadata": {},
   "source": [
    "### Project Title\n",
    "    _Housing Proces Competition for Kaggle Learn Users_\n",
    "---"
   ]
  },
  {
   "cell_type": "markdown",
   "id": "5286acd2",
   "metadata": {},
   "source": [
    "#### Objective\n",
    "* Build an end-to-end pipeline with:\n",
    "    - Load & Import\n",
    "    - Inspect\n",
    "    - Data cleaning\n",
    "    - EDA (Exploratory Data Analysis)\n",
    "    - Processing\n",
    "\n",
    "---"
   ]
  },
  {
   "cell_type": "markdown",
   "id": "5bd07e86",
   "metadata": {},
   "source": [
    "#### Dataset Overview\n",
    "- **Source:** [[Housing Prices Competition for Kaggle Learn Users](https://www.kaggle.com/competitions/home-data-for-ml-course/data)]\n",
    "- **Description:** Dataset of Ames housing with 80 features including property size, quality, location, and amenities to predict final sale price in dollars (target variable).\n",
    "- **Credits:** DanB. Housing Prices Competition for Kaggle Learn Users. https://kaggle.com/competitions/home-data-for-ml-course, 2018. Kaggle.\n",
    "\n",
    "---"
   ]
  },
  {
   "cell_type": "markdown",
   "id": "8a3cbe60",
   "metadata": {},
   "source": [
    "## Table of Contents\n",
    "### 1. [Import Libraries](#import-libraries)  \n"
   ]
  },
  {
   "cell_type": "code",
   "execution_count": 1,
   "id": "340fdfbd",
   "metadata": {},
   "outputs": [],
   "source": [
    "import os\n",
    "import zipfile\n",
    "# Packages for data manipulation\n",
    "import pandas as pd\n",
    "import numpy as np\n",
    "\n",
    "# Packages for data visualization\n",
    "import matplotlib.pyplot as plt\n",
    "import seaborn as sns\n",
    "\n",
    "# APIs for data access\n",
    "# import kaggle\n",
    "# from kaggle.api.kaggle_api_extended import KaggleApi\n",
    "\n",
    "# Packages for machine learning\n",
    "import sklearn as sk\n",
    "\n",
    "# Packages for data preprocessing\n",
    "from sklearn.preprocessing import  RobustScaler, LabelEncoder"
   ]
  },
  {
   "cell_type": "markdown",
   "id": "bafef8e5",
   "metadata": {},
   "source": [
    "### 2. [Load & Inspect Data](#load--inspect-data)"
   ]
  },
  {
   "cell_type": "code",
   "execution_count": 2,
   "id": "5266fa72",
   "metadata": {},
   "outputs": [],
   "source": [
    "# # Authenticate and download dataset from Kaggle\n",
    "# api = KaggleApi()\n",
    "# api.authenticate()\n",
    "\n",
    "# # Create a directory to store the dataset\n",
    "# os.makedirs('../data/data_from_kaggle', exist_ok=True)\n",
    "# extract_to = '../data/data_from_kaggle'\n",
    "# zip_path = '../data/data_from_kaggle/home-data-for-ml-course.zip'\n",
    "\n",
    "# # Download the dataset from Kaggle\n",
    "# kaggle.api.competition_download_files('home-data-for-ml-course', path='../data/data_from_kaggle')\n",
    "\n",
    "# # Extract the downloaded zip file\n",
    "# with zipfile.ZipFile(zip_path, 'r') as zip_ref:\n",
    "#     zip_ref.extractall(extract_to)\n",
    "    \n",
    "# Load the dataset\n",
    "df = pd.read_csv('../data/data_from_kaggle/train.csv')"
   ]
  },
  {
   "cell_type": "markdown",
   "id": "2c713327",
   "metadata": {},
   "source": [
    "   - [Shape](#shape)"
   ]
  },
  {
   "cell_type": "code",
   "execution_count": 3,
   "id": "60e36925",
   "metadata": {},
   "outputs": [
    {
     "data": {
      "text/plain": [
       "(1460, 81)"
      ]
     },
     "execution_count": 3,
     "metadata": {},
     "output_type": "execute_result"
    }
   ],
   "source": [
    "df.shape"
   ]
  },
  {
   "cell_type": "markdown",
   "id": "97ee3e2d",
   "metadata": {},
   "source": [
    "   - [Missing Values](#missing-values) <code> I'll handle those at topic __5.Feature Engineering__ </code>"
   ]
  },
  {
   "cell_type": "code",
   "execution_count": 4,
   "id": "9fff6671",
   "metadata": {},
   "outputs": [
    {
     "data": {
      "text/plain": [
       "PoolQC          1453\n",
       "MiscFeature     1406\n",
       "Alley           1369\n",
       "Fence           1179\n",
       "MasVnrType       872\n",
       "FireplaceQu      690\n",
       "LotFrontage      259\n",
       "GarageYrBlt       81\n",
       "GarageCond        81\n",
       "GarageType        81\n",
       "GarageFinish      81\n",
       "GarageQual        81\n",
       "BsmtFinType2      38\n",
       "BsmtExposure      38\n",
       "BsmtQual          37\n",
       "BsmtCond          37\n",
       "BsmtFinType1      37\n",
       "MasVnrArea         8\n",
       "Electrical         1\n",
       "Id                 0\n",
       "dtype: int64"
      ]
     },
     "execution_count": 4,
     "metadata": {},
     "output_type": "execute_result"
    }
   ],
   "source": [
    "df.isnull().sum().sort_values(ascending=False).head(20)"
   ]
  },
  {
   "cell_type": "markdown",
   "id": "3ff0680b",
   "metadata": {},
   "source": [
    "   - [Data Types](#data-types) "
   ]
  },
  {
   "cell_type": "code",
   "execution_count": 5,
   "id": "635561d1",
   "metadata": {},
   "outputs": [
    {
     "name": "stdout",
     "output_type": "stream",
     "text": [
      "<class 'pandas.core.frame.DataFrame'>\n",
      "RangeIndex: 1460 entries, 0 to 1459\n",
      "Data columns (total 81 columns):\n",
      " #   Column         Non-Null Count  Dtype  \n",
      "---  ------         --------------  -----  \n",
      " 0   Id             1460 non-null   int64  \n",
      " 1   MSSubClass     1460 non-null   int64  \n",
      " 2   MSZoning       1460 non-null   object \n",
      " 3   LotFrontage    1201 non-null   float64\n",
      " 4   LotArea        1460 non-null   int64  \n",
      " 5   Street         1460 non-null   object \n",
      " 6   Alley          91 non-null     object \n",
      " 7   LotShape       1460 non-null   object \n",
      " 8   LandContour    1460 non-null   object \n",
      " 9   Utilities      1460 non-null   object \n",
      " 10  LotConfig      1460 non-null   object \n",
      " 11  LandSlope      1460 non-null   object \n",
      " 12  Neighborhood   1460 non-null   object \n",
      " 13  Condition1     1460 non-null   object \n",
      " 14  Condition2     1460 non-null   object \n",
      " 15  BldgType       1460 non-null   object \n",
      " 16  HouseStyle     1460 non-null   object \n",
      " 17  OverallQual    1460 non-null   int64  \n",
      " 18  OverallCond    1460 non-null   int64  \n",
      " 19  YearBuilt      1460 non-null   int64  \n",
      " 20  YearRemodAdd   1460 non-null   int64  \n",
      " 21  RoofStyle      1460 non-null   object \n",
      " 22  RoofMatl       1460 non-null   object \n",
      " 23  Exterior1st    1460 non-null   object \n",
      " 24  Exterior2nd    1460 non-null   object \n",
      " 25  MasVnrType     588 non-null    object \n",
      " 26  MasVnrArea     1452 non-null   float64\n",
      " 27  ExterQual      1460 non-null   object \n",
      " 28  ExterCond      1460 non-null   object \n",
      " 29  Foundation     1460 non-null   object \n",
      " 30  BsmtQual       1423 non-null   object \n",
      " 31  BsmtCond       1423 non-null   object \n",
      " 32  BsmtExposure   1422 non-null   object \n",
      " 33  BsmtFinType1   1423 non-null   object \n",
      " 34  BsmtFinSF1     1460 non-null   int64  \n",
      " 35  BsmtFinType2   1422 non-null   object \n",
      " 36  BsmtFinSF2     1460 non-null   int64  \n",
      " 37  BsmtUnfSF      1460 non-null   int64  \n",
      " 38  TotalBsmtSF    1460 non-null   int64  \n",
      " 39  Heating        1460 non-null   object \n",
      " 40  HeatingQC      1460 non-null   object \n",
      " 41  CentralAir     1460 non-null   object \n",
      " 42  Electrical     1459 non-null   object \n",
      " 43  1stFlrSF       1460 non-null   int64  \n",
      " 44  2ndFlrSF       1460 non-null   int64  \n",
      " 45  LowQualFinSF   1460 non-null   int64  \n",
      " 46  GrLivArea      1460 non-null   int64  \n",
      " 47  BsmtFullBath   1460 non-null   int64  \n",
      " 48  BsmtHalfBath   1460 non-null   int64  \n",
      " 49  FullBath       1460 non-null   int64  \n",
      " 50  HalfBath       1460 non-null   int64  \n",
      " 51  BedroomAbvGr   1460 non-null   int64  \n",
      " 52  KitchenAbvGr   1460 non-null   int64  \n",
      " 53  KitchenQual    1460 non-null   object \n",
      " 54  TotRmsAbvGrd   1460 non-null   int64  \n",
      " 55  Functional     1460 non-null   object \n",
      " 56  Fireplaces     1460 non-null   int64  \n",
      " 57  FireplaceQu    770 non-null    object \n",
      " 58  GarageType     1379 non-null   object \n",
      " 59  GarageYrBlt    1379 non-null   float64\n",
      " 60  GarageFinish   1379 non-null   object \n",
      " 61  GarageCars     1460 non-null   int64  \n",
      " 62  GarageArea     1460 non-null   int64  \n",
      " 63  GarageQual     1379 non-null   object \n",
      " 64  GarageCond     1379 non-null   object \n",
      " 65  PavedDrive     1460 non-null   object \n",
      " 66  WoodDeckSF     1460 non-null   int64  \n",
      " 67  OpenPorchSF    1460 non-null   int64  \n",
      " 68  EnclosedPorch  1460 non-null   int64  \n",
      " 69  3SsnPorch      1460 non-null   int64  \n",
      " 70  ScreenPorch    1460 non-null   int64  \n",
      " 71  PoolArea       1460 non-null   int64  \n",
      " 72  PoolQC         7 non-null      object \n",
      " 73  Fence          281 non-null    object \n",
      " 74  MiscFeature    54 non-null     object \n",
      " 75  MiscVal        1460 non-null   int64  \n",
      " 76  MoSold         1460 non-null   int64  \n",
      " 77  YrSold         1460 non-null   int64  \n",
      " 78  SaleType       1460 non-null   object \n",
      " 79  SaleCondition  1460 non-null   object \n",
      " 80  SalePrice      1460 non-null   int64  \n",
      "dtypes: float64(3), int64(35), object(43)\n",
      "memory usage: 924.0+ KB\n"
     ]
    }
   ],
   "source": [
    "df.info()"
   ]
  },
  {
   "cell_type": "markdown",
   "id": "f126dd30",
   "metadata": {},
   "source": [
    "   - [Preview Data](#preview-data)"
   ]
  },
  {
   "cell_type": "code",
   "execution_count": 6,
   "id": "bfa01858",
   "metadata": {},
   "outputs": [
    {
     "data": {
      "text/html": [
       "<div>\n",
       "<style scoped>\n",
       "    .dataframe tbody tr th:only-of-type {\n",
       "        vertical-align: middle;\n",
       "    }\n",
       "\n",
       "    .dataframe tbody tr th {\n",
       "        vertical-align: top;\n",
       "    }\n",
       "\n",
       "    .dataframe thead th {\n",
       "        text-align: right;\n",
       "    }\n",
       "</style>\n",
       "<table border=\"1\" class=\"dataframe\">\n",
       "  <thead>\n",
       "    <tr style=\"text-align: right;\">\n",
       "      <th></th>\n",
       "      <th>Id</th>\n",
       "      <th>MSSubClass</th>\n",
       "      <th>MSZoning</th>\n",
       "      <th>LotFrontage</th>\n",
       "      <th>LotArea</th>\n",
       "      <th>Street</th>\n",
       "      <th>Alley</th>\n",
       "      <th>LotShape</th>\n",
       "      <th>LandContour</th>\n",
       "      <th>Utilities</th>\n",
       "      <th>...</th>\n",
       "      <th>PoolArea</th>\n",
       "      <th>PoolQC</th>\n",
       "      <th>Fence</th>\n",
       "      <th>MiscFeature</th>\n",
       "      <th>MiscVal</th>\n",
       "      <th>MoSold</th>\n",
       "      <th>YrSold</th>\n",
       "      <th>SaleType</th>\n",
       "      <th>SaleCondition</th>\n",
       "      <th>SalePrice</th>\n",
       "    </tr>\n",
       "  </thead>\n",
       "  <tbody>\n",
       "    <tr>\n",
       "      <th>0</th>\n",
       "      <td>1</td>\n",
       "      <td>60</td>\n",
       "      <td>RL</td>\n",
       "      <td>65.0</td>\n",
       "      <td>8450</td>\n",
       "      <td>Pave</td>\n",
       "      <td>NaN</td>\n",
       "      <td>Reg</td>\n",
       "      <td>Lvl</td>\n",
       "      <td>AllPub</td>\n",
       "      <td>...</td>\n",
       "      <td>0</td>\n",
       "      <td>NaN</td>\n",
       "      <td>NaN</td>\n",
       "      <td>NaN</td>\n",
       "      <td>0</td>\n",
       "      <td>2</td>\n",
       "      <td>2008</td>\n",
       "      <td>WD</td>\n",
       "      <td>Normal</td>\n",
       "      <td>208500</td>\n",
       "    </tr>\n",
       "    <tr>\n",
       "      <th>1</th>\n",
       "      <td>2</td>\n",
       "      <td>20</td>\n",
       "      <td>RL</td>\n",
       "      <td>80.0</td>\n",
       "      <td>9600</td>\n",
       "      <td>Pave</td>\n",
       "      <td>NaN</td>\n",
       "      <td>Reg</td>\n",
       "      <td>Lvl</td>\n",
       "      <td>AllPub</td>\n",
       "      <td>...</td>\n",
       "      <td>0</td>\n",
       "      <td>NaN</td>\n",
       "      <td>NaN</td>\n",
       "      <td>NaN</td>\n",
       "      <td>0</td>\n",
       "      <td>5</td>\n",
       "      <td>2007</td>\n",
       "      <td>WD</td>\n",
       "      <td>Normal</td>\n",
       "      <td>181500</td>\n",
       "    </tr>\n",
       "  </tbody>\n",
       "</table>\n",
       "<p>2 rows × 81 columns</p>\n",
       "</div>"
      ],
      "text/plain": [
       "   Id  MSSubClass MSZoning  LotFrontage  LotArea Street Alley LotShape  \\\n",
       "0   1          60       RL         65.0     8450   Pave   NaN      Reg   \n",
       "1   2          20       RL         80.0     9600   Pave   NaN      Reg   \n",
       "\n",
       "  LandContour Utilities  ... PoolArea PoolQC Fence MiscFeature MiscVal MoSold  \\\n",
       "0         Lvl    AllPub  ...        0    NaN   NaN         NaN       0      2   \n",
       "1         Lvl    AllPub  ...        0    NaN   NaN         NaN       0      5   \n",
       "\n",
       "  YrSold  SaleType  SaleCondition  SalePrice  \n",
       "0   2008        WD         Normal     208500  \n",
       "1   2007        WD         Normal     181500  \n",
       "\n",
       "[2 rows x 81 columns]"
      ]
     },
     "execution_count": 6,
     "metadata": {},
     "output_type": "execute_result"
    }
   ],
   "source": [
    "df.head(2)"
   ]
  },
  {
   "cell_type": "markdown",
   "id": "3ceda744",
   "metadata": {},
   "source": [
    "---"
   ]
  },
  {
   "cell_type": "markdown",
   "id": "8cc66715",
   "metadata": {
    "vscode": {
     "languageId": "plaintext"
    }
   },
   "source": [
    "### 3. [Data Cleaning](#data-cleaning)"
   ]
  },
  {
   "cell_type": "markdown",
   "id": "ecaf612b",
   "metadata": {},
   "source": [
    "   - [Drop Duplicates](#drop-duplicates)"
   ]
  },
  {
   "cell_type": "code",
   "execution_count": 7,
   "id": "18cdc8e5",
   "metadata": {},
   "outputs": [
    {
     "data": {
      "text/html": [
       "<div>\n",
       "<style scoped>\n",
       "    .dataframe tbody tr th:only-of-type {\n",
       "        vertical-align: middle;\n",
       "    }\n",
       "\n",
       "    .dataframe tbody tr th {\n",
       "        vertical-align: top;\n",
       "    }\n",
       "\n",
       "    .dataframe thead th {\n",
       "        text-align: right;\n",
       "    }\n",
       "</style>\n",
       "<table border=\"1\" class=\"dataframe\">\n",
       "  <thead>\n",
       "    <tr style=\"text-align: right;\">\n",
       "      <th></th>\n",
       "      <th>Id</th>\n",
       "      <th>MSSubClass</th>\n",
       "      <th>MSZoning</th>\n",
       "      <th>LotFrontage</th>\n",
       "      <th>LotArea</th>\n",
       "      <th>Street</th>\n",
       "      <th>Alley</th>\n",
       "      <th>LotShape</th>\n",
       "      <th>LandContour</th>\n",
       "      <th>Utilities</th>\n",
       "      <th>...</th>\n",
       "      <th>PoolArea</th>\n",
       "      <th>PoolQC</th>\n",
       "      <th>Fence</th>\n",
       "      <th>MiscFeature</th>\n",
       "      <th>MiscVal</th>\n",
       "      <th>MoSold</th>\n",
       "      <th>YrSold</th>\n",
       "      <th>SaleType</th>\n",
       "      <th>SaleCondition</th>\n",
       "      <th>SalePrice</th>\n",
       "    </tr>\n",
       "  </thead>\n",
       "  <tbody>\n",
       "  </tbody>\n",
       "</table>\n",
       "<p>0 rows × 81 columns</p>\n",
       "</div>"
      ],
      "text/plain": [
       "Empty DataFrame\n",
       "Columns: [Id, MSSubClass, MSZoning, LotFrontage, LotArea, Street, Alley, LotShape, LandContour, Utilities, LotConfig, LandSlope, Neighborhood, Condition1, Condition2, BldgType, HouseStyle, OverallQual, OverallCond, YearBuilt, YearRemodAdd, RoofStyle, RoofMatl, Exterior1st, Exterior2nd, MasVnrType, MasVnrArea, ExterQual, ExterCond, Foundation, BsmtQual, BsmtCond, BsmtExposure, BsmtFinType1, BsmtFinSF1, BsmtFinType2, BsmtFinSF2, BsmtUnfSF, TotalBsmtSF, Heating, HeatingQC, CentralAir, Electrical, 1stFlrSF, 2ndFlrSF, LowQualFinSF, GrLivArea, BsmtFullBath, BsmtHalfBath, FullBath, HalfBath, BedroomAbvGr, KitchenAbvGr, KitchenQual, TotRmsAbvGrd, Functional, Fireplaces, FireplaceQu, GarageType, GarageYrBlt, GarageFinish, GarageCars, GarageArea, GarageQual, GarageCond, PavedDrive, WoodDeckSF, OpenPorchSF, EnclosedPorch, 3SsnPorch, ScreenPorch, PoolArea, PoolQC, Fence, MiscFeature, MiscVal, MoSold, YrSold, SaleType, SaleCondition, SalePrice]\n",
       "Index: []\n",
       "\n",
       "[0 rows x 81 columns]"
      ]
     },
     "execution_count": 7,
     "metadata": {},
     "output_type": "execute_result"
    }
   ],
   "source": [
    "# Any duplicate rows were found in the dataset.\n",
    "df[df.duplicated()]"
   ]
  },
  {
   "cell_type": "markdown",
   "id": "e515a246",
   "metadata": {},
   "source": [
    "   - [Standardize Text and Formats](#standardize-text-and-formats)\n",
    "      - <code> No need for text and format standardization such as Lowercasing / Uppercasing, Trimming whitespace, Removing special characters or Handling encoding issues </code>"
   ]
  },
  {
   "cell_type": "markdown",
   "id": "b6fd8114",
   "metadata": {},
   "source": [
    "   - [Convert Data Types](#convert-data-types)\n",
    "      - <code> No need for convertions </code>"
   ]
  },
  {
   "cell_type": "markdown",
   "id": "9867b5c4",
   "metadata": {},
   "source": [
    "---"
   ]
  },
  {
   "cell_type": "markdown",
   "id": "0e007770",
   "metadata": {},
   "source": [
    "### 4. [Feature Engineering](#feature-engineering)"
   ]
  },
  {
   "cell_type": "markdown",
   "id": "97b7c6cb",
   "metadata": {},
   "source": [
    "   - [Handling Missing Data](#handling-missing-data)"
   ]
  },
  {
   "cell_type": "code",
   "execution_count": 8,
   "id": "5778d801",
   "metadata": {},
   "outputs": [
    {
     "data": {
      "text/plain": [
       "count    1452.000000\n",
       "mean      103.685262\n",
       "std       181.066207\n",
       "min         0.000000\n",
       "25%         0.000000\n",
       "50%         0.000000\n",
       "75%       166.000000\n",
       "max      1600.000000\n",
       "Name: MasVnrArea, dtype: float64"
      ]
     },
     "execution_count": 8,
     "metadata": {},
     "output_type": "execute_result"
    }
   ],
   "source": [
    "df['MasVnrArea'].describe()"
   ]
  },
  {
   "cell_type": "code",
   "execution_count": 9,
   "id": "7b0c636b",
   "metadata": {},
   "outputs": [
    {
     "data": {
      "text/plain": [
       "array(['SBrkr', 'FuseF', 'FuseA', 'FuseP', 'Mix', nan], dtype=object)"
      ]
     },
     "execution_count": 9,
     "metadata": {},
     "output_type": "execute_result"
    }
   ],
   "source": [
    "df['Electrical'].unique()"
   ]
  },
  {
   "cell_type": "code",
   "execution_count": 10,
   "id": "f9a32fe7",
   "metadata": {},
   "outputs": [],
   "source": [
    "# 1. Fill absence indicators \n",
    "none_cols = ['PoolQC','MiscFeature','Alley','Fence','FireplaceQu',\n",
    "             'GarageType','GarageFinish','GarageQual','GarageCond',\n",
    "             'BsmtQual','BsmtCond','BsmtExposure','BsmtFinType1',\n",
    "             'BsmtFinType2','MasVnrType']\n",
    "df[none_cols] = df[none_cols].fillna('None')\n",
    "\n",
    "# 2. LotFrontage: fill missing values with median by neighborhood\n",
    "lotfrontage_median = df.groupby('Neighborhood')['LotFrontage'].transform('median')\n",
    "df['LotFrontage'] = df['LotFrontage'].fillna(lotfrontage_median)\n",
    "\n",
    "# 3. GarageYrBlt: fill with median year\n",
    "df['GarageYrBlt'] = df['GarageYrBlt'].fillna(df['GarageYrBlt'].median())\n",
    "\n",
    "# 4. MasVnrArea: fill with 0\n",
    "df['MasVnrArea'] = df['MasVnrArea'].fillna(0)\n",
    "\n",
    "# 5. Electrical: fill with mode\n",
    "df['Electrical'] = df['Electrical'].fillna(df['Electrical'].mode()[0])"
   ]
  },
  {
   "cell_type": "markdown",
   "id": "c525d807",
   "metadata": {},
   "source": [
    "<code> In order to don't miss any value, I decided to fill it with __\"None\"__ for the houses that doesn't have some housing features details, such as basement, pool, garage and so on.</code>"
   ]
  },
  {
   "cell_type": "markdown",
   "id": "ff80f106",
   "metadata": {},
   "source": [
    "<code> Also for the __\"Linear feet of street connected to property\"__ and __Year garage was built__,  miss values, I filled it with the __median__</code>"
   ]
  },
  {
   "cell_type": "markdown",
   "id": "aaafaadc",
   "metadata": {},
   "source": [
    "<code> For the __Masonry veneer area in square feet__ The best option, based on the column describe, is to fill the missing values with \"0\". (Most of the houses doesn't have masonry veneer). </code>"
   ]
  },
  {
   "cell_type": "markdown",
   "id": "4c9c6215",
   "metadata": {},
   "source": [
    "<code> The __\"Eletrical feature\"__ is categorical, so based on it, I used the __\"mode\"__ to fill the missing data.</code>"
   ]
  },
  {
   "cell_type": "markdown",
   "id": "ee20b3dc",
   "metadata": {},
   "source": [
    "   - [Encoding Categorical Variables](#encoding-categorical-variables)"
   ]
  },
  {
   "cell_type": "code",
   "execution_count": 11,
   "id": "54b411bf",
   "metadata": {},
   "outputs": [
    {
     "data": {
      "text/html": [
       "<div>\n",
       "<style scoped>\n",
       "    .dataframe tbody tr th:only-of-type {\n",
       "        vertical-align: middle;\n",
       "    }\n",
       "\n",
       "    .dataframe tbody tr th {\n",
       "        vertical-align: top;\n",
       "    }\n",
       "\n",
       "    .dataframe thead th {\n",
       "        text-align: right;\n",
       "    }\n",
       "</style>\n",
       "<table border=\"1\" class=\"dataframe\">\n",
       "  <thead>\n",
       "    <tr style=\"text-align: right;\">\n",
       "      <th></th>\n",
       "      <th>Id</th>\n",
       "      <th>MSSubClass</th>\n",
       "      <th>MSZoning</th>\n",
       "      <th>LotFrontage</th>\n",
       "      <th>LotArea</th>\n",
       "      <th>Street</th>\n",
       "      <th>Alley</th>\n",
       "      <th>LotShape</th>\n",
       "      <th>LandContour</th>\n",
       "      <th>Utilities</th>\n",
       "      <th>...</th>\n",
       "      <th>PoolArea</th>\n",
       "      <th>PoolQC</th>\n",
       "      <th>Fence</th>\n",
       "      <th>MiscFeature</th>\n",
       "      <th>MiscVal</th>\n",
       "      <th>MoSold</th>\n",
       "      <th>YrSold</th>\n",
       "      <th>SaleType</th>\n",
       "      <th>SaleCondition</th>\n",
       "      <th>SalePrice</th>\n",
       "    </tr>\n",
       "  </thead>\n",
       "  <tbody>\n",
       "    <tr>\n",
       "      <th>0</th>\n",
       "      <td>1</td>\n",
       "      <td>60</td>\n",
       "      <td>3</td>\n",
       "      <td>65.0</td>\n",
       "      <td>8450</td>\n",
       "      <td>1</td>\n",
       "      <td>1</td>\n",
       "      <td>3</td>\n",
       "      <td>3</td>\n",
       "      <td>0</td>\n",
       "      <td>...</td>\n",
       "      <td>0</td>\n",
       "      <td>3</td>\n",
       "      <td>4</td>\n",
       "      <td>1</td>\n",
       "      <td>0</td>\n",
       "      <td>2</td>\n",
       "      <td>2008</td>\n",
       "      <td>8</td>\n",
       "      <td>4</td>\n",
       "      <td>208500</td>\n",
       "    </tr>\n",
       "    <tr>\n",
       "      <th>1</th>\n",
       "      <td>2</td>\n",
       "      <td>20</td>\n",
       "      <td>3</td>\n",
       "      <td>80.0</td>\n",
       "      <td>9600</td>\n",
       "      <td>1</td>\n",
       "      <td>1</td>\n",
       "      <td>3</td>\n",
       "      <td>3</td>\n",
       "      <td>0</td>\n",
       "      <td>...</td>\n",
       "      <td>0</td>\n",
       "      <td>3</td>\n",
       "      <td>4</td>\n",
       "      <td>1</td>\n",
       "      <td>0</td>\n",
       "      <td>5</td>\n",
       "      <td>2007</td>\n",
       "      <td>8</td>\n",
       "      <td>4</td>\n",
       "      <td>181500</td>\n",
       "    </tr>\n",
       "  </tbody>\n",
       "</table>\n",
       "<p>2 rows × 81 columns</p>\n",
       "</div>"
      ],
      "text/plain": [
       "   Id  MSSubClass  MSZoning  LotFrontage  LotArea  Street  Alley  LotShape  \\\n",
       "0   1          60         3         65.0     8450       1      1         3   \n",
       "1   2          20         3         80.0     9600       1      1         3   \n",
       "\n",
       "   LandContour  Utilities  ...  PoolArea  PoolQC  Fence  MiscFeature  MiscVal  \\\n",
       "0            3          0  ...         0       3      4            1        0   \n",
       "1            3          0  ...         0       3      4            1        0   \n",
       "\n",
       "   MoSold  YrSold  SaleType  SaleCondition  SalePrice  \n",
       "0       2    2008         8              4     208500  \n",
       "1       5    2007         8              4     181500  \n",
       "\n",
       "[2 rows x 81 columns]"
      ]
     },
     "execution_count": 11,
     "metadata": {},
     "output_type": "execute_result"
    }
   ],
   "source": [
    "label_encoder = LabelEncoder()\n",
    "# Encode categorical features\n",
    "\n",
    "categorical_features = df.select_dtypes(include=['object'])\n",
    "\n",
    "for col in categorical_features.columns:\n",
    "    df[col] = label_encoder.fit_transform(df[col].astype(str))\n",
    "\n",
    "# Checking if label encoding was successful\n",
    "df.head(2)"
   ]
  },
  {
   "cell_type": "markdown",
   "id": "d91127b8",
   "metadata": {},
   "source": [
    "___"
   ]
  },
  {
   "cell_type": "markdown",
   "id": "6a2a740a",
   "metadata": {},
   "source": [
    "#### Correlation Analysis"
   ]
  },
  {
   "cell_type": "markdown",
   "id": "4679f108",
   "metadata": {},
   "source": [
    "- Using all the features of the data, witch one is correlating the most with my target variable (SalePrice)?"
   ]
  },
  {
   "cell_type": "code",
   "execution_count": 12,
   "id": "b9af365c",
   "metadata": {},
   "outputs": [
    {
     "name": "stdout",
     "output_type": "stream",
     "text": [
      "SalePrice        1.000000\n",
      "OverallQual      0.790982\n",
      "GrLivArea        0.708624\n",
      "GarageCars       0.640409\n",
      "ExterQual        0.636884\n",
      "GarageArea       0.623431\n",
      "TotalBsmtSF      0.613581\n",
      "1stFlrSF         0.605852\n",
      "BsmtQual         0.593734\n",
      "KitchenQual      0.589189\n",
      "FullBath         0.560664\n",
      "TotRmsAbvGrd     0.533723\n",
      "YearBuilt        0.522897\n",
      "YearRemodAdd     0.507101\n",
      "MasVnrArea       0.472614\n",
      "Fireplaces       0.466929\n",
      "GarageYrBlt      0.466754\n",
      "GarageFinish     0.425684\n",
      "GarageType       0.415283\n",
      "HeatingQC        0.400178\n",
      "BsmtFinSF1       0.386420\n",
      "Foundation       0.382479\n",
      "LotFrontage      0.349876\n",
      "WoodDeckSF       0.324413\n",
      "2ndFlrSF         0.319334\n",
      "OpenPorchSF      0.315856\n",
      "BsmtExposure     0.309043\n",
      "HalfBath         0.284108\n",
      "LotArea          0.263843\n",
      "LotShape         0.255580\n",
      "CentralAir       0.251328\n",
      "GarageCond       0.246705\n",
      "Electrical       0.234945\n",
      "PavedDrive       0.231357\n",
      "BsmtFullBath     0.227122\n",
      "RoofStyle        0.222405\n",
      "BsmtUnfSF        0.214479\n",
      "SaleCondition    0.213092\n",
      "Neighborhood     0.210851\n",
      "GarageQual       0.205963\n",
      "HouseStyle       0.180163\n",
      "BedroomAbvGr     0.168213\n",
      "MSZoning         0.166872\n",
      "Fence            0.140640\n",
      "KitchenAbvGr     0.135907\n",
      "RoofMatl         0.132383\n",
      "EnclosedPorch    0.128578\n",
      "PoolQC           0.126070\n",
      "ExterCond        0.117303\n",
      "Functional       0.115328\n",
      "ScreenPorch      0.111447\n",
      "Exterior2nd      0.103766\n",
      "Exterior1st      0.103551\n",
      "Heating          0.098812\n",
      "BsmtFinType1     0.098734\n",
      "FireplaceQu      0.097176\n",
      "PoolArea         0.092404\n",
      "BsmtCond         0.091503\n",
      "Condition1       0.091155\n",
      "BldgType         0.085591\n",
      "Name: SalePrice, dtype: float64\n"
     ]
    }
   ],
   "source": [
    "correlations = df.corr()\n",
    "print(correlations['SalePrice'].apply(abs).sort_values(ascending = False).iloc[:60])\n",
    "\n",
    "selected_columns = []"
   ]
  },
  {
   "cell_type": "markdown",
   "id": "87e15f60",
   "metadata": {},
   "source": [
    "- Selecting columns with a correlation above 0.1 to reduce the number of features, thereby decreasing the computational resources required for future machine learning tasks."
   ]
  },
  {
   "cell_type": "code",
   "execution_count": 13,
   "id": "ca62d876",
   "metadata": {},
   "outputs": [
    {
     "data": {
      "text/html": [
       "<div>\n",
       "<style scoped>\n",
       "    .dataframe tbody tr th:only-of-type {\n",
       "        vertical-align: middle;\n",
       "    }\n",
       "\n",
       "    .dataframe tbody tr th {\n",
       "        vertical-align: top;\n",
       "    }\n",
       "\n",
       "    .dataframe thead th {\n",
       "        text-align: right;\n",
       "    }\n",
       "</style>\n",
       "<table border=\"1\" class=\"dataframe\">\n",
       "  <thead>\n",
       "    <tr style=\"text-align: right;\">\n",
       "      <th></th>\n",
       "      <th>MSZoning</th>\n",
       "      <th>LotFrontage</th>\n",
       "      <th>LotArea</th>\n",
       "      <th>LotShape</th>\n",
       "      <th>Neighborhood</th>\n",
       "      <th>HouseStyle</th>\n",
       "      <th>OverallQual</th>\n",
       "      <th>YearBuilt</th>\n",
       "      <th>YearRemodAdd</th>\n",
       "      <th>RoofStyle</th>\n",
       "      <th>...</th>\n",
       "      <th>GarageCond</th>\n",
       "      <th>PavedDrive</th>\n",
       "      <th>WoodDeckSF</th>\n",
       "      <th>OpenPorchSF</th>\n",
       "      <th>EnclosedPorch</th>\n",
       "      <th>ScreenPorch</th>\n",
       "      <th>PoolQC</th>\n",
       "      <th>Fence</th>\n",
       "      <th>SaleCondition</th>\n",
       "      <th>SalePrice</th>\n",
       "    </tr>\n",
       "  </thead>\n",
       "  <tbody>\n",
       "    <tr>\n",
       "      <th>0</th>\n",
       "      <td>3</td>\n",
       "      <td>65.0</td>\n",
       "      <td>8450</td>\n",
       "      <td>3</td>\n",
       "      <td>5</td>\n",
       "      <td>5</td>\n",
       "      <td>7</td>\n",
       "      <td>2003</td>\n",
       "      <td>2003</td>\n",
       "      <td>1</td>\n",
       "      <td>...</td>\n",
       "      <td>5</td>\n",
       "      <td>2</td>\n",
       "      <td>0</td>\n",
       "      <td>61</td>\n",
       "      <td>0</td>\n",
       "      <td>0</td>\n",
       "      <td>3</td>\n",
       "      <td>4</td>\n",
       "      <td>4</td>\n",
       "      <td>208500</td>\n",
       "    </tr>\n",
       "    <tr>\n",
       "      <th>1</th>\n",
       "      <td>3</td>\n",
       "      <td>80.0</td>\n",
       "      <td>9600</td>\n",
       "      <td>3</td>\n",
       "      <td>24</td>\n",
       "      <td>2</td>\n",
       "      <td>6</td>\n",
       "      <td>1976</td>\n",
       "      <td>1976</td>\n",
       "      <td>1</td>\n",
       "      <td>...</td>\n",
       "      <td>5</td>\n",
       "      <td>2</td>\n",
       "      <td>298</td>\n",
       "      <td>0</td>\n",
       "      <td>0</td>\n",
       "      <td>0</td>\n",
       "      <td>3</td>\n",
       "      <td>4</td>\n",
       "      <td>4</td>\n",
       "      <td>181500</td>\n",
       "    </tr>\n",
       "  </tbody>\n",
       "</table>\n",
       "<p>2 rows × 53 columns</p>\n",
       "</div>"
      ],
      "text/plain": [
       "   MSZoning  LotFrontage  LotArea  LotShape  Neighborhood  HouseStyle  \\\n",
       "0         3         65.0     8450         3             5           5   \n",
       "1         3         80.0     9600         3            24           2   \n",
       "\n",
       "   OverallQual  YearBuilt  YearRemodAdd  RoofStyle  ...  GarageCond  \\\n",
       "0            7       2003          2003          1  ...           5   \n",
       "1            6       1976          1976          1  ...           5   \n",
       "\n",
       "   PavedDrive  WoodDeckSF  OpenPorchSF  EnclosedPorch  ScreenPorch  PoolQC  \\\n",
       "0           2           0           61              0            0       3   \n",
       "1           2         298            0              0            0       3   \n",
       "\n",
       "   Fence  SaleCondition  SalePrice  \n",
       "0      4              4     208500  \n",
       "1      4              4     181500  \n",
       "\n",
       "[2 rows x 53 columns]"
      ]
     },
     "execution_count": 13,
     "metadata": {},
     "output_type": "execute_result"
    }
   ],
   "source": [
    "for col in df.columns:\n",
    "    if abs(correlations[col]['SalePrice']) > 0.10:\n",
    "        selected_columns.append(col)\n",
    "\n",
    "df_selected = df[selected_columns]\n",
    "df_selected.head(2)"
   ]
  },
  {
   "cell_type": "code",
   "execution_count": 14,
   "id": "5ea9c219",
   "metadata": {},
   "outputs": [
    {
     "data": {
      "text/plain": [
       "(1460, 53)"
      ]
     },
     "execution_count": 14,
     "metadata": {},
     "output_type": "execute_result"
    }
   ],
   "source": [
    "df_selected.shape"
   ]
  },
  {
   "cell_type": "code",
   "execution_count": 15,
   "id": "c0befb54",
   "metadata": {},
   "outputs": [
    {
     "data": {
      "text/plain": [
       "MSZoning           int32\n",
       "LotFrontage      float64\n",
       "LotArea            int64\n",
       "LotShape           int32\n",
       "Neighborhood       int32\n",
       "HouseStyle         int32\n",
       "OverallQual        int64\n",
       "YearBuilt          int64\n",
       "YearRemodAdd       int64\n",
       "RoofStyle          int32\n",
       "RoofMatl           int32\n",
       "Exterior1st        int32\n",
       "Exterior2nd        int32\n",
       "MasVnrArea       float64\n",
       "ExterQual          int32\n",
       "ExterCond          int32\n",
       "Foundation         int32\n",
       "BsmtQual           int32\n",
       "BsmtExposure       int32\n",
       "BsmtFinSF1         int64\n",
       "BsmtUnfSF          int64\n",
       "TotalBsmtSF        int64\n",
       "HeatingQC          int32\n",
       "CentralAir         int32\n",
       "Electrical         int32\n",
       "1stFlrSF           int64\n",
       "2ndFlrSF           int64\n",
       "GrLivArea          int64\n",
       "BsmtFullBath       int64\n",
       "FullBath           int64\n",
       "HalfBath           int64\n",
       "BedroomAbvGr       int64\n",
       "KitchenAbvGr       int64\n",
       "KitchenQual        int32\n",
       "TotRmsAbvGrd       int64\n",
       "Functional         int32\n",
       "Fireplaces         int64\n",
       "GarageType         int32\n",
       "GarageYrBlt      float64\n",
       "GarageFinish       int32\n",
       "GarageCars         int64\n",
       "GarageArea         int64\n",
       "GarageQual         int32\n",
       "GarageCond         int32\n",
       "PavedDrive         int32\n",
       "WoodDeckSF         int64\n",
       "OpenPorchSF        int64\n",
       "EnclosedPorch      int64\n",
       "ScreenPorch        int64\n",
       "PoolQC             int32\n",
       "Fence              int32\n",
       "SaleCondition      int32\n",
       "SalePrice          int64\n",
       "dtype: object"
      ]
     },
     "execution_count": 15,
     "metadata": {},
     "output_type": "execute_result"
    }
   ],
   "source": [
    "df_selected.dtypes"
   ]
  },
  {
   "cell_type": "markdown",
   "id": "1b7b64a4",
   "metadata": {},
   "source": [
    "___"
   ]
  },
  {
   "cell_type": "markdown",
   "id": "e083d563",
   "metadata": {},
   "source": [
    "   - [Feature Transformation (Scaling, Normalization)](#feature-transformation-scaling-normalization)"
   ]
  },
  {
   "cell_type": "code",
   "execution_count": 16,
   "id": "8b1e35ee",
   "metadata": {},
   "outputs": [
    {
     "data": {
      "text/html": [
       "<div>\n",
       "<style scoped>\n",
       "    .dataframe tbody tr th:only-of-type {\n",
       "        vertical-align: middle;\n",
       "    }\n",
       "\n",
       "    .dataframe tbody tr th {\n",
       "        vertical-align: top;\n",
       "    }\n",
       "\n",
       "    .dataframe thead th {\n",
       "        text-align: right;\n",
       "    }\n",
       "</style>\n",
       "<table border=\"1\" class=\"dataframe\">\n",
       "  <thead>\n",
       "    <tr style=\"text-align: right;\">\n",
       "      <th></th>\n",
       "      <th>MSZoning</th>\n",
       "      <th>LotFrontage</th>\n",
       "      <th>LotArea</th>\n",
       "      <th>LotShape</th>\n",
       "      <th>Neighborhood</th>\n",
       "      <th>HouseStyle</th>\n",
       "      <th>OverallQual</th>\n",
       "      <th>YearBuilt</th>\n",
       "      <th>YearRemodAdd</th>\n",
       "      <th>RoofStyle</th>\n",
       "      <th>...</th>\n",
       "      <th>GarageCond</th>\n",
       "      <th>PavedDrive</th>\n",
       "      <th>WoodDeckSF</th>\n",
       "      <th>OpenPorchSF</th>\n",
       "      <th>EnclosedPorch</th>\n",
       "      <th>ScreenPorch</th>\n",
       "      <th>PoolQC</th>\n",
       "      <th>Fence</th>\n",
       "      <th>SaleCondition</th>\n",
       "      <th>SalePrice</th>\n",
       "    </tr>\n",
       "  </thead>\n",
       "  <tbody>\n",
       "    <tr>\n",
       "      <th>0</th>\n",
       "      <td>0.0</td>\n",
       "      <td>-0.25</td>\n",
       "      <td>-0.254076</td>\n",
       "      <td>0.0</td>\n",
       "      <td>-0.7</td>\n",
       "      <td>1.0</td>\n",
       "      <td>0.5</td>\n",
       "      <td>0.652174</td>\n",
       "      <td>0.243243</td>\n",
       "      <td>0.0</td>\n",
       "      <td>...</td>\n",
       "      <td>0.0</td>\n",
       "      <td>0.0</td>\n",
       "      <td>0.00000</td>\n",
       "      <td>0.529412</td>\n",
       "      <td>0.0</td>\n",
       "      <td>0.0</td>\n",
       "      <td>0.0</td>\n",
       "      <td>0.0</td>\n",
       "      <td>0.0</td>\n",
       "      <td>0.541506</td>\n",
       "    </tr>\n",
       "    <tr>\n",
       "      <th>1</th>\n",
       "      <td>0.0</td>\n",
       "      <td>0.50</td>\n",
       "      <td>0.030015</td>\n",
       "      <td>0.0</td>\n",
       "      <td>1.2</td>\n",
       "      <td>0.0</td>\n",
       "      <td>0.0</td>\n",
       "      <td>0.065217</td>\n",
       "      <td>-0.486486</td>\n",
       "      <td>0.0</td>\n",
       "      <td>...</td>\n",
       "      <td>0.0</td>\n",
       "      <td>0.0</td>\n",
       "      <td>1.77381</td>\n",
       "      <td>-0.367647</td>\n",
       "      <td>0.0</td>\n",
       "      <td>0.0</td>\n",
       "      <td>0.0</td>\n",
       "      <td>0.0</td>\n",
       "      <td>0.0</td>\n",
       "      <td>0.220173</td>\n",
       "    </tr>\n",
       "  </tbody>\n",
       "</table>\n",
       "<p>2 rows × 53 columns</p>\n",
       "</div>"
      ],
      "text/plain": [
       "   MSZoning  LotFrontage   LotArea  LotShape  Neighborhood  HouseStyle  \\\n",
       "0       0.0        -0.25 -0.254076       0.0          -0.7         1.0   \n",
       "1       0.0         0.50  0.030015       0.0           1.2         0.0   \n",
       "\n",
       "   OverallQual  YearBuilt  YearRemodAdd  RoofStyle  ...  GarageCond  \\\n",
       "0          0.5   0.652174      0.243243        0.0  ...         0.0   \n",
       "1          0.0   0.065217     -0.486486        0.0  ...         0.0   \n",
       "\n",
       "   PavedDrive  WoodDeckSF  OpenPorchSF  EnclosedPorch  ScreenPorch  PoolQC  \\\n",
       "0         0.0     0.00000     0.529412            0.0          0.0     0.0   \n",
       "1         0.0     1.77381    -0.367647            0.0          0.0     0.0   \n",
       "\n",
       "   Fence  SaleCondition  SalePrice  \n",
       "0    0.0            0.0   0.541506  \n",
       "1    0.0            0.0   0.220173  \n",
       "\n",
       "[2 rows x 53 columns]"
      ]
     },
     "execution_count": 16,
     "metadata": {},
     "output_type": "execute_result"
    }
   ],
   "source": [
    "scaler = RobustScaler()\n",
    "scaled_array = scaler.fit_transform(df_selected) \n",
    "\n",
    "df_scaled = pd.DataFrame(scaled_array, columns=df_selected.columns)\n",
    "df_scaled.head(2)"
   ]
  },
  {
   "cell_type": "code",
   "execution_count": 17,
   "id": "7e971e23",
   "metadata": {},
   "outputs": [
    {
     "data": {
      "text/plain": [
       "(1460, 52)"
      ]
     },
     "execution_count": 17,
     "metadata": {},
     "output_type": "execute_result"
    }
   ],
   "source": [
    "# Dropping the target variable from the features.\n",
    "\n",
    "df_scaled.drop(columns=['SalePrice'], inplace=True)\n",
    "df_scaled.shape"
   ]
  },
  {
   "cell_type": "markdown",
   "id": "f6dce607",
   "metadata": {},
   "source": [
    "___\n",
    "#### Saving the cleaned data into other file"
   ]
  },
  {
   "cell_type": "code",
   "execution_count": 18,
   "id": "5cfaf817",
   "metadata": {},
   "outputs": [],
   "source": [
    "os.makedirs('../data/cleaned_data', exist_ok=True) \n",
    "df_scaled.to_csv('../data/cleaned_data/defaultV2.csv', index=False)"
   ]
  }
 ],
 "metadata": {
  "kernelspec": {
   "display_name": "default_exercise",
   "language": "python",
   "name": "python3"
  },
  "language_info": {
   "codemirror_mode": {
    "name": "ipython",
    "version": 3
   },
   "file_extension": ".py",
   "mimetype": "text/x-python",
   "name": "python",
   "nbconvert_exporter": "python",
   "pygments_lexer": "ipython3",
   "version": "3.11.13"
  }
 },
 "nbformat": 4,
 "nbformat_minor": 5
}
